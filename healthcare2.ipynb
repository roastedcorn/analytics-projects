{
 "cells": [
  {
   "cell_type": "markdown",
   "metadata": {},
   "source": [
    "# Detecting breast cancer using a KNN model"
   ]
  },
  {
   "cell_type": "markdown",
   "metadata": {},
   "source": [
    "In this project, we will use a k-nearest neighbors clustering algorithm to detect breast cancer. "
   ]
  },
  {
   "cell_type": "code",
   "execution_count": 79,
   "metadata": {},
   "outputs": [],
   "source": [
    "#import the libraries, classes and functions\n",
    "\n",
    "import pandas as pd\n",
    "import numpy as np\n",
    "import matplotlib.pyplot as plt\n",
    "from sklearn import model_selection\n",
    "from sklearn.neighbors import KNeighborsClassifier\n",
    "from sklearn.model_selection import KFold\n",
    "from sklearn.model_selection import train_test_split\n",
    "from sklearn.model_selection import cross_val_score\n",
    "from sklearn.metrics import accuracy_score, classification_report"
   ]
  },
  {
   "cell_type": "code",
   "execution_count": 80,
   "metadata": {},
   "outputs": [],
   "source": [
    "# import our dataset using the UCI repository\n",
    "df = pd.read_csv(\"https://archive.ics.uci.edu/ml/machine-learning-databases/breast-cancer-wisconsin/breast-cancer-wisconsin.data\", header = None)\n",
    "df.columns = ['ID',\n",
    "              'lump_thickness',\n",
    "              'uniform_cell_size',\n",
    "              'uniform_cell_shape',\n",
    "              'marginal_adhesion',\n",
    "              'single_epithelial_size',\n",
    "              'bare_nuclei',\n",
    "              'bland_chromatin',\n",
    "              'normal_nucleoli',\n",
    "              'mitoses',\n",
    "              'class']"
   ]
  },
  {
   "cell_type": "markdown",
   "metadata": {},
   "source": [
    "The dataset has 11 columns. These factors are used to determine if a cell is cancerous."
   ]
  },
  {
   "cell_type": "code",
   "execution_count": 81,
   "metadata": {},
   "outputs": [
    {
     "name": "stdout",
     "output_type": "stream",
     "text": [
      "ID                        1002945\n",
      "lump_thickness                  5\n",
      "uniform_cell_size               4\n",
      "uniform_cell_shape              4\n",
      "marginal_adhesion               5\n",
      "single_epithelial_size          7\n",
      "bare_nuclei                    10\n",
      "bland_chromatin                 3\n",
      "normal_nucleoli                 2\n",
      "mitoses                         1\n",
      "class                           2\n",
      "Name: 1, dtype: object\n"
     ]
    }
   ],
   "source": [
    "print df.loc[1] # take a look at the 2nd row of the data"
   ]
  },
  {
   "cell_type": "code",
   "execution_count": 82,
   "metadata": {},
   "outputs": [
    {
     "name": "stdout",
     "output_type": "stream",
     "text": [
      "                 ID  lump_thickness  uniform_cell_size  uniform_cell_shape  \\\n",
      "count  6.990000e+02      699.000000         699.000000          699.000000   \n",
      "mean   1.071704e+06        4.417740           3.134478            3.207439   \n",
      "std    6.170957e+05        2.815741           3.051459            2.971913   \n",
      "min    6.163400e+04        1.000000           1.000000            1.000000   \n",
      "25%    8.706885e+05        2.000000           1.000000            1.000000   \n",
      "50%    1.171710e+06        4.000000           1.000000            1.000000   \n",
      "75%    1.238298e+06        6.000000           5.000000            5.000000   \n",
      "max    1.345435e+07       10.000000          10.000000           10.000000   \n",
      "\n",
      "       marginal_adhesion  single_epithelial_size  bland_chromatin  \\\n",
      "count         699.000000              699.000000       699.000000   \n",
      "mean            2.806867                3.216023         3.437768   \n",
      "std             2.855379                2.214300         2.438364   \n",
      "min             1.000000                1.000000         1.000000   \n",
      "25%             1.000000                2.000000         2.000000   \n",
      "50%             1.000000                2.000000         3.000000   \n",
      "75%             4.000000                4.000000         5.000000   \n",
      "max            10.000000               10.000000        10.000000   \n",
      "\n",
      "       normal_nucleoli     mitoses       class  \n",
      "count       699.000000  699.000000  699.000000  \n",
      "mean          2.866953    1.589413    2.689557  \n",
      "std           3.053634    1.715078    0.951273  \n",
      "min           1.000000    1.000000    2.000000  \n",
      "25%           1.000000    1.000000    2.000000  \n",
      "50%           1.000000    1.000000    2.000000  \n",
      "75%           4.000000    1.000000    4.000000  \n",
      "max          10.000000   10.000000    4.000000  \n"
     ]
    }
   ],
   "source": [
    "print df.describe()"
   ]
  },
  {
   "cell_type": "markdown",
   "metadata": {},
   "source": [
    "For the class column, the values are either 2 or 4. Benign cases have a value of 2, while cancerous cases have a value of 4."
   ]
  },
  {
   "cell_type": "code",
   "execution_count": 83,
   "metadata": {},
   "outputs": [
    {
     "name": "stdout",
     "output_type": "stream",
     "text": [
      "         ID  lump_thickness  uniform_cell_size  uniform_cell_shape  \\\n",
      "0   1000025               5                  1                   1   \n",
      "1   1002945               5                  4                   4   \n",
      "2   1015425               3                  1                   1   \n",
      "3   1016277               6                  8                   8   \n",
      "4   1017023               4                  1                   1   \n",
      "5   1017122               8                 10                  10   \n",
      "6   1018099               1                  1                   1   \n",
      "7   1018561               2                  1                   2   \n",
      "8   1033078               2                  1                   1   \n",
      "9   1033078               4                  2                   1   \n",
      "10  1035283               1                  1                   1   \n",
      "11  1036172               2                  1                   1   \n",
      "12  1041801               5                  3                   3   \n",
      "13  1043999               1                  1                   1   \n",
      "14  1044572               8                  7                   5   \n",
      "15  1047630               7                  4                   6   \n",
      "16  1048672               4                  1                   1   \n",
      "17  1049815               4                  1                   1   \n",
      "18  1050670              10                  7                   7   \n",
      "19  1050718               6                  1                   1   \n",
      "20  1054590               7                  3                   2   \n",
      "21  1054593              10                  5                   5   \n",
      "22  1056784               3                  1                   1   \n",
      "23  1057013               8                  4                   5   \n",
      "24  1059552               1                  1                   1   \n",
      "25  1065726               5                  2                   3   \n",
      "26  1066373               3                  2                   1   \n",
      "27  1066979               5                  1                   1   \n",
      "28  1067444               2                  1                   1   \n",
      "29  1070935               1                  1                   3   \n",
      "30  1070935               3                  1                   1   \n",
      "31  1071760               2                  1                   1   \n",
      "32  1072179              10                  7                   7   \n",
      "33  1074610               2                  1                   1   \n",
      "34  1075123               3                  1                   2   \n",
      "35  1079304               2                  1                   1   \n",
      "36  1080185              10                 10                  10   \n",
      "37  1081791               6                  2                   1   \n",
      "38  1084584               5                  4                   4   \n",
      "39  1091262               2                  5                   3   \n",
      "40  1096800               6                  6                   6   \n",
      "41  1099510              10                  4                   3   \n",
      "42  1100524               6                 10                  10   \n",
      "43  1102573               5                  6                   5   \n",
      "44  1103608              10                 10                  10   \n",
      "45  1103722               1                  1                   1   \n",
      "46  1105257               3                  7                   7   \n",
      "47  1105524               1                  1                   1   \n",
      "48  1106095               4                  1                   1   \n",
      "49  1106829               7                  8                   7   \n",
      "\n",
      "    marginal_adhesion  single_epithelial_size bare_nuclei  bland_chromatin  \\\n",
      "0                   1                       2           1                3   \n",
      "1                   5                       7          10                3   \n",
      "2                   1                       2           2                3   \n",
      "3                   1                       3           4                3   \n",
      "4                   3                       2           1                3   \n",
      "5                   8                       7          10                9   \n",
      "6                   1                       2          10                3   \n",
      "7                   1                       2           1                3   \n",
      "8                   1                       2           1                1   \n",
      "9                   1                       2           1                2   \n",
      "10                  1                       1           1                3   \n",
      "11                  1                       2           1                2   \n",
      "12                  3                       2           3                4   \n",
      "13                  1                       2           3                3   \n",
      "14                 10                       7           9                5   \n",
      "15                  4                       6           1                4   \n",
      "16                  1                       2           1                2   \n",
      "17                  1                       2           1                3   \n",
      "18                  6                       4          10                4   \n",
      "19                  1                       2           1                3   \n",
      "20                 10                       5          10                5   \n",
      "21                  3                       6           7                7   \n",
      "22                  1                       2           1                2   \n",
      "23                  1                       2           ?                7   \n",
      "24                  1                       2           1                3   \n",
      "25                  4                       2           7                3   \n",
      "26                  1                       1           1                2   \n",
      "27                  1                       2           1                2   \n",
      "28                  1                       2           1                2   \n",
      "29                  1                       2           1                1   \n",
      "30                  1                       1           1                2   \n",
      "31                  1                       2           1                3   \n",
      "32                  3                       8           5                7   \n",
      "33                  2                       2           1                3   \n",
      "34                  1                       2           1                2   \n",
      "35                  1                       2           1                2   \n",
      "36                  8                       6           1                8   \n",
      "37                  1                       1           1                7   \n",
      "38                  9                       2          10                5   \n",
      "39                  3                       6           7                7   \n",
      "40                  9                       6           ?                7   \n",
      "41                  1                       3           3                6   \n",
      "42                  2                       8          10                7   \n",
      "43                  6                      10           1                3   \n",
      "44                  4                       8           1                8   \n",
      "45                  1                       2           1                2   \n",
      "46                  4                       4           9                4   \n",
      "47                  1                       2           1                2   \n",
      "48                  3                       2           1                3   \n",
      "49                  2                       4           8                3   \n",
      "\n",
      "    normal_nucleoli  mitoses  class  \n",
      "0                 1        1      2  \n",
      "1                 2        1      2  \n",
      "2                 1        1      2  \n",
      "3                 7        1      2  \n",
      "4                 1        1      2  \n",
      "5                 7        1      4  \n",
      "6                 1        1      2  \n",
      "7                 1        1      2  \n",
      "8                 1        5      2  \n",
      "9                 1        1      2  \n",
      "10                1        1      2  \n",
      "11                1        1      2  \n",
      "12                4        1      4  \n",
      "13                1        1      2  \n",
      "14                5        4      4  \n",
      "15                3        1      4  \n",
      "16                1        1      2  \n",
      "17                1        1      2  \n",
      "18                1        2      4  \n",
      "19                1        1      2  \n",
      "20                4        4      4  \n",
      "21               10        1      4  \n",
      "22                1        1      2  \n",
      "23                3        1      4  \n",
      "24                1        1      2  \n",
      "25                6        1      4  \n",
      "26                1        1      2  \n",
      "27                1        1      2  \n",
      "28                1        1      2  \n",
      "29                1        1      2  \n",
      "30                1        1      2  \n",
      "31                1        1      2  \n",
      "32                4        3      4  \n",
      "33                1        1      2  \n",
      "34                1        1      2  \n",
      "35                1        1      2  \n",
      "36                9        1      4  \n",
      "37                1        1      2  \n",
      "38                6        1      4  \n",
      "39                5        1      4  \n",
      "40                8        1      2  \n",
      "41                5        2      4  \n",
      "42                3        3      4  \n",
      "43                1        1      4  \n",
      "44               10        1      4  \n",
      "45                1        2      2  \n",
      "46                8        1      4  \n",
      "47                1        1      2  \n",
      "48                1        1      2  \n",
      "49                8        2      4  \n"
     ]
    }
   ],
   "source": [
    "#explore the data\n",
    "print df.head(50)"
   ]
  },
  {
   "cell_type": "markdown",
   "metadata": {},
   "source": [
    "We can see that there is some missing data, so we will ignore that data."
   ]
  },
  {
   "cell_type": "code",
   "execution_count": 84,
   "metadata": {},
   "outputs": [],
   "source": [
    "# replace a question mark with -99999 and make Python ignore it\n",
    "df.replace('?',-99999, inplace = True)\n",
    "\n",
    "# drop ID column since it's useless in this case and we are left with 10 columns\n",
    "data = df.drop(['ID'], 1)"
   ]
  },
  {
   "cell_type": "markdown",
   "metadata": {},
   "source": [
    "For training, our dataset is split into x and y. The class column will be contained in y dataset, while the remaining will be contained in x dataset. Then we split our data into x_train, x_test, y_train, and y_test using the train_test_split function. We want to train 80% of the data and keep 20% for testing, so we set the test size to 0.2."
   ]
  },
  {
   "cell_type": "code",
   "execution_count": 72,
   "metadata": {},
   "outputs": [],
   "source": [
    "# create new datasets\n",
    "x = np.array(data.drop(['class'], 1))\n",
    "y = np.array(data['class'])\n",
    "x_train, x_test, y_train, y_test = train_test_split(x,y, test_size=0.2)"
   ]
  },
  {
   "cell_type": "code",
   "execution_count": 87,
   "metadata": {},
   "outputs": [],
   "source": [
    "# add seed and scoring\n",
    "seed = 8\n",
    "scoring = 'accuracy'"
   ]
  },
  {
   "cell_type": "markdown",
   "metadata": {},
   "source": [
    "With a KNN model, the data points are grouped into two groups: cancerous and non-cancerous"
   ]
  },
  {
   "cell_type": "code",
   "execution_count": 91,
   "metadata": {},
   "outputs": [
    {
     "name": "stdout",
     "output_type": "stream",
     "text": [
      "0.9677922077922076\n",
      "0.022314810116784614\n"
     ]
    }
   ],
   "source": [
    "#create a KNN model\n",
    "\n",
    "KNN = KNeighborsClassifier(n_neighbors=5)\n",
    "kf= model_selection.KFold(n_splits = 10, random_state = seed)\n",
    "cv_score_results = model_selection.cross_val_score(KNN, x_train, y_train, cv=kf, scoring=scoring)\n",
    "\n",
    "print cv_score_results.mean()\n",
    "print cv_score_results.std()"
   ]
  },
  {
   "cell_type": "code",
   "execution_count": 93,
   "metadata": {},
   "outputs": [
    {
     "data": {
      "image/png": "[encoded data removed]",
      "text/plain": [
       "<matplotlib.figure.Figure at 0x2df58dd8>"
      ]
     },
     "metadata": {},
     "output_type": "display_data"
    }
   ],
   "source": [
    "df.hist(figsize=(15,15))\n",
    "plt.show()"
   ]
  },
  {
   "cell_type": "code",
   "execution_count": 94,
   "metadata": {},
   "outputs": [],
   "source": [
    "#Use the KNN model to make predictions on dataset\n",
    "KNN.fit(x_train, y_train)\n",
    "pred = KNN.predict(x_test)"
   ]
  },
  {
   "cell_type": "code",
   "execution_count": 77,
   "metadata": {},
   "outputs": [
    {
     "name": "stdout",
     "output_type": "stream",
     "text": [
      "0.9714285714285714\n"
     ]
    }
   ],
   "source": [
    "print accuracy_score(y_test, pred)"
   ]
  },
  {
   "cell_type": "markdown",
   "metadata": {},
   "source": [
    "We end up with an accuracy of 97%."
   ]
  },
  {
   "cell_type": "markdown",
   "metadata": {},
   "source": [
    "With classification_report, we are given more detailed results. In fact, it gives us the information about precision, recall and f-1 score. "
   ]
  },
  {
   "cell_type": "code",
   "execution_count": 78,
   "metadata": {},
   "outputs": [
    {
     "name": "stdout",
     "output_type": "stream",
     "text": [
      "              precision    recall  f1-score   support\n",
      "\n",
      "           2       0.97      0.99      0.98        92\n",
      "           4       0.98      0.94      0.96        48\n",
      "\n",
      "   micro avg       0.97      0.97      0.97       140\n",
      "   macro avg       0.97      0.96      0.97       140\n",
      "weighted avg       0.97      0.97      0.97       140\n",
      "\n"
     ]
    }
   ],
   "source": [
    "print classification_report(y_test, pred)"
   ]
  }
 ],
 "metadata": {
  "kernelspec": {
   "display_name": "Python 2",
   "language": "python",
   "name": "python2"
  },
  "language_info": {
   "codemirror_mode": {
    "name": "ipython",
    "version": 2
   },
   "file_extension": ".py",
   "mimetype": "text/x-python",
   "name": "python",
   "nbconvert_exporter": "python",
   "pygments_lexer": "ipython2",
   "version": "2.7.16"
  },
  "widgets": {
   "state": {},
   "version": "1.1.2"
  }
 },
 "nbformat": 4,
 "nbformat_minor": 2
}
