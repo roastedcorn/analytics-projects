{
 "cells": [
  {
   "cell_type": "code",
   "execution_count": 1,
   "metadata": {},
   "outputs": [],
   "source": [
    "import datetime\n",
    "import time\n",
    "from yahoo_fin import stock_info as si"
   ]
  },
  {
   "cell_type": "code",
   "execution_count": 2,
   "metadata": {},
   "outputs": [
    {
     "name": "stdout",
     "output_type": "stream",
     "text": [
      "========== 2019-07-20 14:15:41.694763 ==========\n",
      "Value of DWT is:           6.98 USD\n",
      "Value of DWT in Portfolio: 69.80 USD\n",
      "Value of ADMA is:           3.89 USD\n",
      "Value of ADMA in Portfolio: 31.12 USD\n",
      "Value of HEXO is:           4.91 USD\n",
      "Value of HEXO in Portfolio: 294.60 USD\n",
      "Value of VSLR is:           8.16 USD\n",
      "Value of VSLR in Portfolio: 40.80 USD\n",
      "Value of ADBE is:           306.87 USD\n",
      "Value of ADBE in Portfolio: 3682.44 USD\n",
      "Value of S    is:           6.95 USD\n",
      "Value of S    in Portfolio: 20.85 USD\n",
      "Total Portfolio Value:      4139.61  USD\n"
     ]
    },
    {
     "ename": "KeyboardInterrupt",
     "evalue": "",
     "output_type": "error",
     "traceback": [
      "\u001b[1;31m---------------------------------------------------------------------------\u001b[0m",
      "\u001b[1;31mKeyboardInterrupt\u001b[0m                         Traceback (most recent call last)",
      "\u001b[1;32m<ipython-input-2-5ce64f1905f9>\u001b[0m in \u001b[0;36m<module>\u001b[1;34m\u001b[0m\n\u001b[0;32m     16\u001b[0m     \u001b[1;31m#print('Total Portfolio Value: ', '%.2f'%portfolio_total, ' USD')\u001b[0m\u001b[1;33m\u001b[0m\u001b[1;33m\u001b[0m\u001b[1;33m\u001b[0m\u001b[0m\n\u001b[0;32m     17\u001b[0m     \u001b[0mprint\u001b[0m\u001b[1;33m(\u001b[0m\u001b[1;34m'Total Portfolio Value:     '\u001b[0m\u001b[1;33m,\u001b[0m \u001b[1;34m'%.2f'\u001b[0m\u001b[1;33m%\u001b[0m\u001b[0mportfolio_total\u001b[0m\u001b[1;33m,\u001b[0m \u001b[1;34m' USD'\u001b[0m\u001b[1;33m)\u001b[0m\u001b[1;33m\u001b[0m\u001b[1;33m\u001b[0m\u001b[0m\n\u001b[1;32m---> 18\u001b[1;33m     \u001b[0mtime\u001b[0m\u001b[1;33m.\u001b[0m\u001b[0msleep\u001b[0m\u001b[1;33m(\u001b[0m\u001b[1;36m120\u001b[0m\u001b[1;33m)\u001b[0m\u001b[1;33m\u001b[0m\u001b[1;33m\u001b[0m\u001b[0m\n\u001b[0m",
      "\u001b[1;31mKeyboardInterrupt\u001b[0m: "
     ]
    }
   ],
   "source": [
    "stocks = ['DWT','10','ADMA','8','HEXO','60','VSLR','5','ADBE','12','S','3']\n",
    "\n",
    "while(1):\n",
    "    print('==========', datetime.datetime.now(), '==========')\n",
    "    portfolio_total = 0\n",
    "    for i in range(0, len(stocks), 2):\n",
    "        stock = stocks[i]\n",
    "        val = si.get_live_price(stock)\n",
    "        #why the fuck does dwt break this? who fucking knows\n",
    "        print(\"Value of %-*s is:           %.2f USD\" % (5-len(stock), stock, val))\n",
    "        total_val = val * int(stocks[i+1])\n",
    "        print(\"Value of %-*s in Portfolio: %.2f USD\" % (5-len(stock), stock, total_val))\n",
    "        portfolio_total += total_val\n",
    "        \n",
    "    print('Total Portfolio Value:     ', '%.2f'%portfolio_total, ' USD')\n",
    "    time.sleep(120)\n"
   ]
  },
  {
   "cell_type": "code",
   "execution_count": null,
   "metadata": {},
   "outputs": [],
   "source": []
  }
 ],
 "metadata": {
  "kernelspec": {
   "display_name": "Python 2",
   "language": "python",
   "name": "python2"
  },
  "language_info": {
   "codemirror_mode": {
    "name": "ipython",
    "version": 2
   },
   "file_extension": ".py",
   "mimetype": "text/x-python",
   "name": "python",
   "nbconvert_exporter": "python",
   "pygments_lexer": "ipython2",
   "version": "2.7.16"
  },
  "widgets": {
   "state": {},
   "version": "1.1.2"
  }
 },
 "nbformat": 4,
 "nbformat_minor": 2
}
